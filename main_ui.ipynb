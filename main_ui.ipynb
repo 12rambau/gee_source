{
 "cells": [
  {
   "cell_type": "code",
   "execution_count": null,
   "id": "256fd975-c064-4aa9-b1a8-d4071199c49a",
   "metadata": {},
   "outputs": [],
   "source": [
    "from component import tile"
   ]
  },
  {
   "cell_type": "code",
   "execution_count": null,
   "id": "9b82996a-12f5-4708-b887-da1c7f9accd9",
   "metadata": {},
   "outputs": [],
   "source": [
    "main_tile = tile.MainTile()"
   ]
  },
  {
   "cell_type": "code",
   "execution_count": null,
   "id": "63552c8e-f5e7-4b47-9b46-58b4203af16b",
   "metadata": {},
   "outputs": [],
   "source": [
    "main_tile"
   ]
  },
  {
   "cell_type": "code",
   "execution_count": null,
   "id": "5a3c5a8e-2810-4282-a605-1fead1cc4626",
   "metadata": {},
   "outputs": [],
   "source": []
  }
 ],
 "metadata": {
  "kernelspec": {
   "display_name": "Python 3",
   "language": "python",
   "name": "python3"
  },
  "language_info": {
   "codemirror_mode": {
    "name": "ipython",
    "version": 3
   },
   "file_extension": ".py",
   "mimetype": "text/x-python",
   "name": "python",
   "nbconvert_exporter": "python",
   "pygments_lexer": "ipython3",
   "version": "3.8.10"
  }
 },
 "nbformat": 4,
 "nbformat_minor": 5
}
